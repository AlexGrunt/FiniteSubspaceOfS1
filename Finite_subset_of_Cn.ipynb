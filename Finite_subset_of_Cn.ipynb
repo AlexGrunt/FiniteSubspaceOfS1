{
  "nbformat": 4,
  "nbformat_minor": 0,
  "metadata": {
    "colab": {
      "name": "Finite subset of Cn.ipynb",
      "provenance": [],
      "collapsed_sections": [
        "70FBk-aT-PyX",
        "_ESaO91m-v4W",
        "3frdIHSx-zCK"
      ]
    },
    "kernelspec": {
      "name": "python3",
      "display_name": "Python 3"
    },
    "language_info": {
      "name": "python"
    }
  },
  "cells": [
    {
      "cell_type": "code",
      "metadata": {
        "id": "xrzr3a606Nu7"
      },
      "source": [
        "import numpy as np\n",
        "import matplotlib.pyplot as plt"
      ],
      "execution_count": 1,
      "outputs": []
    },
    {
      "cell_type": "markdown",
      "metadata": {
        "id": "70FBk-aT-PyX"
      },
      "source": [
        "# Adjacency matrix building for k = 3"
      ]
    },
    {
      "cell_type": "code",
      "metadata": {
        "id": "q9lla7AX6Z-c"
      },
      "source": [
        "def build_adj_3(num_of_vert):\n",
        "  N = num_of_vert\n",
        "  vert_2 = (int) (N * (N - 1) / 2)\n",
        "  vert_3 = (int)(N * (N - 1) * (N - 2) / (3 * 2))\n",
        "  num_vert = (int) (N + vert_2 + vert_3)\n",
        "  # filling up dictionary\n",
        "  d = {str(a + 1): a for a in range(N)}\n",
        "  idx = N\n",
        "  for i in range(N):\n",
        "    for j in range(i + 1, N):\n",
        "      s = str(i + 1) + '_' + str(j + 1)\n",
        "      d[s] = idx\n",
        "      idx = idx + 1\n",
        "  for i in range(N):\n",
        "    for j in range(i + 1, N):\n",
        "      for k in range(j + 1, N):\n",
        "        s= str(i + 1) + '_' + str(j + 1) + '_' + str(k + 1)\n",
        "        d[s] = idx\n",
        "        idx = idx + 1\n",
        "  def get_idx(vert):\n",
        "    ch_set = set(vert)\n",
        "    vert = list(ch_set)\n",
        "    vert.sort()\n",
        "    s = ''\n",
        "    if len(vert) == 1:\n",
        "      s = s + str(vert[0])\n",
        "    elif len(vert) == 2:\n",
        "      s = s + str(vert[0]) + '_' + str(vert[1])\n",
        "    else:\n",
        "      s = s + str(vert[0]) + '_' + str(vert[1]) + '_' + str(vert[2])\n",
        "    return d[s]\n",
        "  def get_neighbour(v):\n",
        "    left = 0\n",
        "    right = 0\n",
        "    if v == 1:\n",
        "      left = N\n",
        "    else:\n",
        "      left = v - 1\n",
        "    if v == N:\n",
        "      right = 1\n",
        "    else:\n",
        "      right = v + 1\n",
        "    return (left, right)\n",
        "\n",
        "  def left_neighbour(v):\n",
        "    return get_neighbour(v)[0]\n",
        "\n",
        "  def right_neighbour(v):\n",
        "    return get_neighbour(v)[1]\n",
        "\n",
        "  def add_edje(a, b):\n",
        "    adj[a][b] = 1\n",
        "    adj[b][a] = 1\n",
        "\n",
        "  adj = np.full((num_vert, num_vert), 0)\n",
        "  # Setting up adj matrix\n",
        "  # exp_1\n",
        "  for i in range(1, N + 1):\n",
        "    v_idx = get_idx([i])\n",
        "    ln_idx = get_idx([left_neighbour(i)])\n",
        "    rn_idx = get_idx([right_neighbour(i)])\n",
        "    add_edje(v_idx, ln_idx)\n",
        "    add_edje(v_idx, rn_idx)\n",
        "\n",
        "  #exp_2 \n",
        "  for i in range(1, N + 1):\n",
        "    for j in range(i + 1, N + 1):\n",
        "      v_idx = get_idx([i, j])\n",
        "      # l(a), b\n",
        "      neighb = get_idx([left_neighbour(i), j])\n",
        "      add_edje(v_idx, neighb)\n",
        "      # r(a), b\n",
        "      neighb = get_idx([right_neighbour(i), j])\n",
        "      add_edje(v_idx, neighb)\n",
        "      # a, l(b)\n",
        "      neighb = get_idx([i, left_neighbour(j)])\n",
        "      add_edje(v_idx, neighb)\n",
        "      # a, r(b)\n",
        "      neighb = get_idx([i, right_neighbour(j)])\n",
        "      add_edje(v_idx, neighb)\n",
        "      # l(a) l(b)\n",
        "      neighb = get_idx([left_neighbour(i), left_neighbour(j)])\n",
        "      add_edje(v_idx, neighb)\n",
        "      # l(a) r(b)\n",
        "      neighb = get_idx([left_neighbour(i), right_neighbour(j)])\n",
        "      add_edje(v_idx, neighb)\n",
        "      # r(a) l(b)\n",
        "      neighb = get_idx([right_neighbour(i), left_neighbour(j)])\n",
        "      add_edje(v_idx, neighb)\n",
        "      # r(a) r(b)\n",
        "      neighb = get_idx([right_neighbour(i), right_neighbour(j)])\n",
        "      add_edje(v_idx, neighb)\n",
        "\n",
        "  # exp_3\n",
        "  for i in range(1, N + 1):\n",
        "    for j in range(i + 1, N + 1):\n",
        "      for k in range(j + 1, N + 1):\n",
        "        v_idx = get_idx([i, j, k])\n",
        "        # n(a) b c\n",
        "        neighb = get_idx([left_neighbour(i), j, k])\n",
        "        add_edje(v_idx, neighb)\n",
        "        neighb = get_idx([right_neighbour(i), j, k])\n",
        "        add_edje(v_idx, neighb)\n",
        "        # a n(b) c\n",
        "        neighb = get_idx([i, left_neighbour(j), k])\n",
        "        add_edje(v_idx, neighb)\n",
        "        neighb = get_idx([i, right_neighbour(j), k])\n",
        "        add_edje(v_idx, neighb)\n",
        "        # a b n(c)\n",
        "        neighb = get_idx([i, j, left_neighbour(k)])\n",
        "        add_edje(v_idx, neighb)\n",
        "        neighb = get_idx([i, j, right_neighbour(k)])\n",
        "        add_edje(v_idx, neighb)\n",
        "        # l(a) n(b) c\n",
        "        neighb = get_idx([left_neighbour(i), left_neighbour(j), k])\n",
        "        add_edje(v_idx, neighb)\n",
        "        neighb = get_idx([left_neighbour(i), right_neighbour(j), k])\n",
        "        add_edje(v_idx, neighb)\n",
        "        # r(a) n(b) c\n",
        "        neighb = get_idx([right_neighbour(i), left_neighbour(j), k])\n",
        "        add_edje(v_idx, neighb)\n",
        "        neighb = get_idx([right_neighbour(i), right_neighbour(j), k])\n",
        "        add_edje(v_idx, neighb)\n",
        "        # l(a) b n(c)\n",
        "        neighb = get_idx([left_neighbour(i), j, left_neighbour(k)])\n",
        "        add_edje(v_idx, neighb)\n",
        "        neighb = get_idx([left_neighbour(i), j, right_neighbour(k)])\n",
        "        add_edje(v_idx, neighb)\n",
        "        # r(a) b n(c)\n",
        "        neighb = get_idx([right_neighbour(i), j, left_neighbour(k)])\n",
        "        add_edje(v_idx, neighb)\n",
        "        neighb = get_idx([right_neighbour(i), j, right_neighbour(k)])\n",
        "        add_edje(v_idx, neighb)\n",
        "        # a l(b) n(c)\n",
        "        neighb = get_idx([i, left_neighbour(j), left_neighbour(k)])\n",
        "        add_edje(v_idx, neighb)\n",
        "        neighb = get_idx([i, left_neighbour(j), right_neighbour(k)])\n",
        "        add_edje(v_idx, neighb)\n",
        "        # a r(b) n(c)\n",
        "        neighb = get_idx([i, right_neighbour(j), left_neighbour(k)])\n",
        "        add_edje(v_idx, neighb)\n",
        "        neighb = get_idx([i, right_neighbour(j), right_neighbour(k)])\n",
        "        add_edje(v_idx, neighb)\n",
        "        # l(a) l(b) n(c)\n",
        "        neighb = get_idx([left_neighbour(i), left_neighbour(j), left_neighbour(k)])\n",
        "        add_edje(v_idx, neighb)\n",
        "        neighb = get_idx([left_neighbour(i), left_neighbour(j), right_neighbour(k)])\n",
        "        add_edje(v_idx, neighb)\n",
        "        # l(a) r(b) n(c)\n",
        "        neighb = get_idx([left_neighbour(i), right_neighbour(j), left_neighbour(k)])\n",
        "        add_edje(v_idx, neighb)\n",
        "        neighb = get_idx([left_neighbour(i), right_neighbour(j), right_neighbour(k)])\n",
        "        add_edje(v_idx, neighb)\n",
        "        # r(a) l(b) n(c)\n",
        "        neighb = get_idx([right_neighbour(i), left_neighbour(j), left_neighbour(k)])\n",
        "        add_edje(v_idx, neighb)\n",
        "        neighb = get_idx([right_neighbour(i), left_neighbour(j), right_neighbour(k)])\n",
        "        add_edje(v_idx, neighb)\n",
        "        # r(a) r(b) n(c)\n",
        "        neighb = get_idx([right_neighbour(i), right_neighbour(j), left_neighbour(k)])\n",
        "        add_edje(v_idx, neighb)\n",
        "        neighb = get_idx([right_neighbour(i), right_neighbour(j), right_neighbour(k)])\n",
        "        add_edje(v_idx, neighb)\n",
        "  \n",
        "  return adj"
      ],
      "execution_count": 2,
      "outputs": []
    },
    {
      "cell_type": "markdown",
      "metadata": {
        "id": "_ESaO91m-v4W"
      },
      "source": [
        "# Adjacency matrix building for k = 2"
      ]
    },
    {
      "cell_type": "code",
      "metadata": {
        "id": "WvdY7WOn-8Dr"
      },
      "source": [
        "def build_adj_2(num_of_vert):\n",
        "  N = num_of_vert\n",
        "  vert_2 = (int) (N * (N - 1) / 2)\n",
        "  num_vert = (int) (N + vert_2)\n",
        "  # filling up dictionary\n",
        "  d = {str(a + 1): a for a in range(N)}\n",
        "  idx = N\n",
        "  for i in range(N):\n",
        "    for j in range(i + 1, N):\n",
        "      s = str(i + 1) + '_' + str(j + 1)\n",
        "      d[s] = idx\n",
        "      idx = idx + 1\n",
        "  for i in range(N):\n",
        "    for j in range(i + 1, N):\n",
        "      for k in range(j + 1, N):\n",
        "        s= str(i + 1) + '_' + str(j + 1) + '_' + str(k + 1)\n",
        "        d[s] = idx\n",
        "        idx = idx + 1\n",
        "  def get_idx(vert):\n",
        "    ch_set = set(vert)\n",
        "    vert = list(ch_set)\n",
        "    vert.sort()\n",
        "    s = ''\n",
        "    if len(vert) == 1:\n",
        "      s = s + str(vert[0])\n",
        "    elif len(vert) == 2:\n",
        "      s = s + str(vert[0]) + '_' + str(vert[1])\n",
        "    else:\n",
        "      s = s + str(vert[0]) + '_' + str(vert[1]) + '_' + str(vert[2])\n",
        "    return d[s]\n",
        "  def get_neighbour(v):\n",
        "    left = 0\n",
        "    right = 0\n",
        "    if v == 1:\n",
        "      left = N\n",
        "    else:\n",
        "      left = v - 1\n",
        "    if v == N:\n",
        "      right = 1\n",
        "    else:\n",
        "      right = v + 1\n",
        "    return (left, right)\n",
        "\n",
        "  def left_neighbour(v):\n",
        "    return get_neighbour(v)[0]\n",
        "\n",
        "  def right_neighbour(v):\n",
        "    return get_neighbour(v)[1]\n",
        "\n",
        "  def add_edje(a, b):\n",
        "    adj[a][b] = 1\n",
        "    adj[b][a] = 1\n",
        "\n",
        "  adj = np.full((num_vert, num_vert), 0)\n",
        "  # Setting up adj matrix\n",
        "  # exp_1\n",
        "  for i in range(1, N + 1):\n",
        "    v_idx = get_idx([i])\n",
        "    ln_idx = get_idx([left_neighbour(i)])\n",
        "    rn_idx = get_idx([right_neighbour(i)])\n",
        "    add_edje(v_idx, ln_idx)\n",
        "    add_edje(v_idx, rn_idx)\n",
        "\n",
        "  #exp_2 \n",
        "  for i in range(1, N + 1):\n",
        "    for j in range(i + 1, N + 1):\n",
        "      v_idx = get_idx([i, j])\n",
        "      # l(a), b\n",
        "      neighb = get_idx([left_neighbour(i), j])\n",
        "      add_edje(v_idx, neighb)\n",
        "      # r(a), b\n",
        "      neighb = get_idx([right_neighbour(i), j])\n",
        "      add_edje(v_idx, neighb)\n",
        "      # a, l(b)\n",
        "      neighb = get_idx([i, left_neighbour(j)])\n",
        "      add_edje(v_idx, neighb)\n",
        "      # a, r(b)\n",
        "      neighb = get_idx([i, right_neighbour(j)])\n",
        "      add_edje(v_idx, neighb)\n",
        "      # l(a) l(b)\n",
        "      neighb = get_idx([left_neighbour(i), left_neighbour(j)])\n",
        "      add_edje(v_idx, neighb)\n",
        "      # l(a) r(b)\n",
        "      neighb = get_idx([left_neighbour(i), right_neighbour(j)])\n",
        "      add_edje(v_idx, neighb)\n",
        "      # r(a) l(b)\n",
        "      neighb = get_idx([right_neighbour(i), left_neighbour(j)])\n",
        "      add_edje(v_idx, neighb)\n",
        "      # r(a) r(b)\n",
        "      neighb = get_idx([right_neighbour(i), right_neighbour(j)])\n",
        "      add_edje(v_idx, neighb)\n",
        "\n",
        "  return adj"
      ],
      "execution_count": 3,
      "outputs": []
    },
    {
      "cell_type": "markdown",
      "metadata": {
        "id": "3frdIHSx-zCK"
      },
      "source": [
        "# Floyd-Warshall"
      ]
    },
    {
      "cell_type": "code",
      "metadata": {
        "id": "ZJvAPZzu65Vq"
      },
      "source": [
        "def get_dist_mat(num_vert, adj):\n",
        "  # set 0-->INF and a_ii = 0 for Floyd-Warshall algo corectness\n",
        "  for i in range(num_vert):\n",
        "    for j in range(num_vert):\n",
        "      if (adj[i][j] == 0):\n",
        "        adj[i][j] = 999999\n",
        "\n",
        "  for i in range(num_vert):\n",
        "    adj[i][i] = 0\n",
        "  # Floyd-Warshall \n",
        "  D = np.copy(adj)\n",
        "  for i in range(num_vert):\n",
        "    for j in range(num_vert):\n",
        "      for k in range(num_vert):\n",
        "        D[i][j] = min(D[i][j], D[i][k] + D[k][j])\n",
        "  return D"
      ],
      "execution_count": 4,
      "outputs": []
    },
    {
      "cell_type": "markdown",
      "metadata": {
        "id": "pIKUzVON-ots"
      },
      "source": [
        "# Betti numbers calcullating"
      ]
    },
    {
      "cell_type": "code",
      "metadata": {
        "id": "bSp3A0qE8Fb3"
      },
      "source": [
        "#!pip install gudhi\n",
        "import gudhi as gd"
      ],
      "execution_count": 5,
      "outputs": []
    },
    {
      "cell_type": "code",
      "metadata": {
        "colab": {
          "base_uri": "https://localhost:8080/"
        },
        "id": "KkRxzNz4-tMS",
        "outputId": "c3115f19-4545-4466-b0db-48cbd4764a89"
      },
      "source": [
        "# getting results for exp_3 C_n\n",
        "for N in range(4, 15):\n",
        "  vert_2 = (int) (N * (N - 1) / 2)\n",
        "  vert_3 = (int)(N * (N - 1) * (N - 2) / (3 * 2))\n",
        "  num_vert = (int) (N + vert_2 + vert_3)\n",
        "  adj = build_adj_3(N)\n",
        "  D = get_dist_mat(num_vert, adj)\n",
        "  clique_complex = gd.RipsComplex(distance_matrix=D, max_edge_length=1)\n",
        "  Rips_simplex_tree = clique_complex.create_simplex_tree(max_dimension=9)\n",
        "  Rips_simplex_tree.compute_persistence()\n",
        "  betti = Rips_simplex_tree.betti_numbers()\n",
        "  print(\"For N =\", N, \" betti numbers are:\", end=' ')\n",
        "  for i in range(len(betti)):\n",
        "    print(betti[i], end=' ')\n",
        "  print(\"\")"
      ],
      "execution_count": 8,
      "outputs": [
        {
          "output_type": "stream",
          "text": [
            "For N = 4  betti numbers are: 1 0 0 0 0 0 0 0 0 \n",
            "For N = 5  betti numbers are: 1 0 0 0 0 0 0 0 0 \n",
            "For N = 6  betti numbers are: 1 0 0 0 0 0 0 0 0 \n",
            "For N = 7  betti numbers are: 1 0 1 1 0 0 0 0 \n",
            "For N = 8  betti numbers are: 1 0 1 2 0 0 0 0 \n",
            "For N = 9  betti numbers are: 1 0 1 1 0 0 0 0 \n",
            "For N = 10  betti numbers are: 1 0 0 1 0 0 0 0 \n",
            "For N = 11  betti numbers are: 1 0 0 1 0 0 0 0 \n",
            "For N = 12  betti numbers are: 1 0 0 1 0 0 0 0 \n",
            "For N = 13  betti numbers are: 1 0 0 1 0 0 0 0 \n",
            "For N = 14  betti numbers are: 1 0 0 1 0 0 0 0 \n"
          ],
          "name": "stdout"
        }
      ]
    },
    {
      "cell_type": "code",
      "metadata": {
        "colab": {
          "base_uri": "https://localhost:8080/"
        },
        "id": "NEshDMriBg4W",
        "outputId": "d6b45f24-6263-4d63-9d79-e48ab7aef56e"
      },
      "source": [
        "# getting results for exp_3 C_n\n",
        "for N in range(3, 15):\n",
        "  vert_2 = (int) (N * (N - 1) / 2)\n",
        "  num_vert = (int) (N + vert_2)\n",
        "  adj = build_adj_2(N)\n",
        "  D = get_dist_mat(num_vert, adj)\n",
        "  clique_complex = gd.RipsComplex(distance_matrix=D, max_edge_length=1)\n",
        "  Rips_simplex_tree = clique_complex.create_simplex_tree(max_dimension=9)\n",
        "  Rips_simplex_tree.compute_persistence()\n",
        "  betti = Rips_simplex_tree.betti_numbers()\n",
        "  print(\"For N =\", N, \" betti numbers are:\", end=' ')\n",
        "  for i in range(len(betti)):\n",
        "    print(betti[i], end=' ')\n",
        "  print(\"\")"
      ],
      "execution_count": 9,
      "outputs": [
        {
          "output_type": "stream",
          "text": [
            "For N = 3  betti numbers are: 1 0 0 0 0 \n",
            "For N = 4  betti numbers are: 1 0 0 0 0 \n",
            "For N = 5  betti numbers are: 1 0 0 0 \n",
            "For N = 6  betti numbers are: 1 0 0 \n",
            "For N = 7  betti numbers are: 1 1 0 \n",
            "For N = 8  betti numbers are: 1 1 0 \n",
            "For N = 9  betti numbers are: 1 1 0 \n",
            "For N = 10  betti numbers are: 1 1 0 \n",
            "For N = 11  betti numbers are: 1 1 0 \n",
            "For N = 12  betti numbers are: 1 1 0 \n",
            "For N = 13  betti numbers are: 1 1 0 \n",
            "For N = 14  betti numbers are: 1 1 0 \n"
          ],
          "name": "stdout"
        }
      ]
    },
    {
      "cell_type": "code",
      "metadata": {
        "id": "GgZzpBRVPhRd"
      },
      "source": [
        ""
      ],
      "execution_count": null,
      "outputs": []
    }
  ]
}